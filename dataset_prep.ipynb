{
 "cells": [
  {
   "cell_type": "code",
   "execution_count": 1,
   "id": "spare-bradley",
   "metadata": {},
   "outputs": [],
   "source": [
    "import os,cv2,keras\n",
    "import pandas as pd\n",
    "import matplotlib.pyplot as plt\n",
    "import numpy as np"
   ]
  },
  {
   "cell_type": "code",
   "execution_count": null,
   "id": "focused-collins",
   "metadata": {},
   "outputs": [],
   "source": [
    "path = os.getcwd()\n",
    "dataset=[]\n",
    "for e,i in enumerate(os.listdir(path)):\n",
    "    if i.startswith(\"pv\"):\n",
    "        filename = i\n",
    "        df=pd.read_csv(i)\n",
    "        dataset.append(df)\n",
    "        \n",
    "frame = pd.concat(dataset, axis=0, ignore_index=True)\n",
    "\n",
    "dataset= frame[['hour_of_day', 'sunposition_thetaZ', 'sunposition_solarAzimuth',\n",
    "       'WindComponentUat0','WindComponentUat0','DewpointTemperatureAt0', 'TemperatureAt0',\n",
    "       'RelativeHumidityAt0', 'SolarRadiationGlobalAt0',\n",
    "       'TotalCloudCoverAt0', 'power_normed']]\n",
    "\n",
    "dataset.to_csv('pv_data.csv')"
   ]
  }
 ],
 "metadata": {
  "kernelspec": {
   "display_name": "Python 3",
   "language": "python",
   "name": "python3"
  },
  "language_info": {
   "codemirror_mode": {
    "name": "ipython",
    "version": 3
   },
   "file_extension": ".py",
   "mimetype": "text/x-python",
   "name": "python",
   "nbconvert_exporter": "python",
   "pygments_lexer": "ipython3",
   "version": "3.8.5"
  }
 },
 "nbformat": 4,
 "nbformat_minor": 5
}
