{
 "cells": [
  {
   "cell_type": "code",
   "execution_count": 15,
   "id": "aging-tyler",
   "metadata": {},
   "outputs": [],
   "source": [
    "import os,cv2,keras\n",
    "import pandas as pd\n",
    "import matplotlib.pyplot as plt\n",
    "import numpy as np"
   ]
  },
  {
   "cell_type": "code",
   "execution_count": 38,
   "id": "speaking-hundred",
   "metadata": {},
   "outputs": [
    {
     "name": "stderr",
     "output_type": "stream",
     "text": [
      "IOPub data rate exceeded.\n",
      "The notebook server will temporarily stop sending output\n",
      "to the client in order to avoid crashing it.\n",
      "To change this limit, set the config variable\n",
      "`--NotebookApp.iopub_data_rate_limit`.\n",
      "\n",
      "Current values:\n",
      "NotebookApp.iopub_data_rate_limit=1000000.0 (bytes/sec)\n",
      "NotebookApp.rate_limit_window=3.0 (secs)\n",
      "\n"
     ]
    }
   ],
   "source": [
    "path = os.getcwd()\n",
    "dataset=[]\n",
    "for e,i in enumerate(os.listdir(path)):\n",
    "    if i.startswith(\"pv\"):\n",
    "        filename = i\n",
    "        df=pd.read_csv(i)\n",
    "        dataset.append(df)\n",
    "        \n",
    "frame = pd.concat(dataset, axis=0, ignore_index=True)\n",
    "\n",
    "dataset= frame[['hour_of_day', 'sunposition_thetaZ', 'sunposition_solarAzimuth',\n",
    "       'WindComponentUat0','WindComponentUat0','DewpointTemperatureAt0', 'TemperatureAt0',\n",
    "       'RelativeHumidityAt0', 'SolarRadiationGlobalAt0',\n",
    "       'TotalCloudCoverAt0', 'power_normed']]\n",
    "\n",
    "dataset.to_csv('pv_data.csv')\n"
   ]
  },
  {
   "cell_type": "code",
   "execution_count": null,
   "id": "sought-bread",
   "metadata": {},
   "outputs": [],
   "source": []
  }
 ],
 "metadata": {
  "kernelspec": {
   "display_name": "Python 3",
   "language": "python",
   "name": "python3"
  },
  "language_info": {
   "codemirror_mode": {
    "name": "ipython",
    "version": 3
   },
   "file_extension": ".py",
   "mimetype": "text/x-python",
   "name": "python",
   "nbconvert_exporter": "python",
   "pygments_lexer": "ipython3",
   "version": "3.8.5"
  }
 },
 "nbformat": 4,
 "nbformat_minor": 5
}
